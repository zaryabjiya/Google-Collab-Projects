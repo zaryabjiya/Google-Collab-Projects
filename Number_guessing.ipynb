{
  "nbformat": 4,
  "nbformat_minor": 0,
  "metadata": {
    "colab": {
      "provenance": [],
      "authorship_tag": "ABX9TyPEfovP4UeZyP7axPLIZrV7",
      "include_colab_link": true
    },
    "kernelspec": {
      "name": "python3",
      "display_name": "Python 3"
    },
    "language_info": {
      "name": "python"
    }
  },
  "cells": [
    {
      "cell_type": "markdown",
      "metadata": {
        "id": "view-in-github",
        "colab_type": "text"
      },
      "source": [
        "<a href=\"https://colab.research.google.com/github/zaryabjiya/Google-Collab-Projects/blob/main/Number_guessing.ipynb\" target=\"_parent\"><img src=\"https://colab.research.google.com/assets/colab-badge.svg\" alt=\"Open In Colab\"/></a>"
      ]
    },
    {
      "cell_type": "markdown",
      "source": [
        "**NUmber Guessing Game (*User* )**"
      ],
      "metadata": {
        "id": "Zxv6jTHxpzdA"
      }
    },
    {
      "cell_type": "code",
      "source": [
        "import random\n",
        "import time\n",
        "\n",
        "DARK_RED = \"\\033[31m\"\n",
        "DARK_GREEN = \"\\033[32m\"\n",
        "MAGENTA = \"\\033[35m\"\n",
        "DARK_BLUE = \"\\033[34m\"\n",
        "CYAN = \"\\033[36m\"\n",
        "RESET = \"\\033[0m\"\n",
        "\n",
        "def user_guesses():\n",
        "    \"\"\"User Number Guessing Game: The User Guesses! 🎯🤖\"\"\"\n",
        "\n",
        "    print(f\"{MAGENTA}🎮 Welcome to the Reverse Number Guessing Game! 🎉{RESET}\")\n",
        "    time.sleep(1)\n",
        "    print(f\"{DARK_BLUE}🤖 I have chosen a number between 1 and 100. Can you guess it? 🔢{RESET}\")\n",
        "    time.sleep(1)\n",
        "\n",
        "    number = random.randint(1, 100)\n",
        "    attempts = 7\n",
        "\n",
        "    while attempts > 0:\n",
        "        print(f\"\\n{DARK_RED}🔥 You have {attempts} attempts left.{RESET} \")\n",
        "        try:\n",
        "            guess = int(input(\"👉 Enter your guess \"))\n",
        "        except ValueError:\n",
        "            print(f\"{DARK_RED}⚠️ Invalid input! Please enter a valid number.{RESET}\")\n",
        "            attempts -= 1\n",
        "            continue\n",
        "\n",
        "        if guess < number:\n",
        "             print(f\"{CYAN}📉 Too low! Try again.{RESET}\")\n",
        "        elif guess > number:\n",
        "             print(f\"{CYAN}📈 Too high! Try again.{RESET}\")\n",
        "        else:\n",
        "             print(f\"{DARK_GREEN}🎊 Congratulations! You guessed the number {number} correctly! 🎉{RESET}\")\n",
        "             return\n",
        "\n",
        "        attempts -= 1\n",
        "\n",
        "    print(f\"\\n{DARK_RED}😢 Oops! You are out of guesses. The correct number was: {number}.{RESET}\")\n",
        "\n",
        "user_guesses()\n"
      ],
      "metadata": {
        "colab": {
          "base_uri": "https://localhost:8080/"
        },
        "id": "xppjeplMqMcB",
        "outputId": "1e0f0ef7-0b5a-4694-d7a1-8ceb0bebe9f6"
      },
      "execution_count": 20,
      "outputs": [
        {
          "output_type": "stream",
          "name": "stdout",
          "text": [
            "\u001b[35m🎮 Welcome to the Reverse Number Guessing Game! 🎉\u001b[0m\n",
            "\u001b[34m🤖 I have chosen a number between 1 and 100. Can you guess it? 🔢\u001b[0m\n",
            "\n",
            "\u001b[31m🔥 You have 7 attempts left.\u001b[0m \n",
            "👉 Enter your guess 78\n",
            "\u001b[36m📈 Too high! Try again.\u001b[0m\n",
            "\n",
            "\u001b[31m🔥 You have 6 attempts left.\u001b[0m \n",
            "👉 Enter your guess 45\n",
            "\u001b[36m📈 Too high! Try again.\u001b[0m\n",
            "\n",
            "\u001b[31m🔥 You have 5 attempts left.\u001b[0m \n",
            "👉 Enter your guess 90\n",
            "\u001b[36m📈 Too high! Try again.\u001b[0m\n",
            "\n",
            "\u001b[31m🔥 You have 4 attempts left.\u001b[0m \n",
            "👉 Enter your guess 26\n",
            "\u001b[36m📈 Too high! Try again.\u001b[0m\n",
            "\n",
            "\u001b[31m🔥 You have 3 attempts left.\u001b[0m \n",
            "👉 Enter your guess 42\n",
            "\u001b[36m📈 Too high! Try again.\u001b[0m\n",
            "\n",
            "\u001b[31m🔥 You have 2 attempts left.\u001b[0m \n",
            "👉 Enter your guess 55\n",
            "\u001b[36m📈 Too high! Try again.\u001b[0m\n",
            "\n",
            "\u001b[31m🔥 You have 1 attempts left.\u001b[0m \n",
            "👉 Enter your guess 60\n",
            "\u001b[36m📈 Too high! Try again.\u001b[0m\n",
            "\n",
            "\u001b[31m😢 Oops! You are out of guesses. The correct number was: 25.\u001b[0m\n"
          ]
        }
      ]
    }
  ]
}