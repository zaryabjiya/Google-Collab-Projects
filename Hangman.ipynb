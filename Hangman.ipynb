{
  "nbformat": 4,
  "nbformat_minor": 0,
  "metadata": {
    "colab": {
      "provenance": [],
      "authorship_tag": "ABX9TyOmT2fkXzKR/o0fYzafcl6n",
      "include_colab_link": true
    },
    "kernelspec": {
      "name": "python3",
      "display_name": "Python 3"
    },
    "language_info": {
      "name": "python"
    }
  },
  "cells": [
    {
      "cell_type": "markdown",
      "metadata": {
        "id": "view-in-github",
        "colab_type": "text"
      },
      "source": [
        "<a href=\"https://colab.research.google.com/github/zaryabjiya/Google-Collab-Projects/blob/main/Hangman.ipynb\" target=\"_parent\"><img src=\"https://colab.research.google.com/assets/colab-badge.svg\" alt=\"Open In Colab\"/></a>"
      ]
    },
    {
      "cell_type": "markdown",
      "source": [
        "**Hangman Game**"
      ],
      "metadata": {
        "id": "4uMGsyRu6DeP"
      }
    },
    {
      "cell_type": "code",
      "source": [
        "import random\n",
        "from colorama import Fore, Style\n",
        "\n",
        "words = [\"python\", \"developer\", \"software\", \"debugger\", \"variable\", \"function\", \"compiler\", \"algorithm\", \"database\", \"framework\"]\n",
        "\n",
        "word = random.choice(words)\n",
        "word_letters = set(word)\n",
        "correct_guesses = set()\n",
        "attempts = 6\n",
        "\n",
        "print(Fore.CYAN + \"💻 Welcome to the Tech Hangman Challenge! 🚀\" + Style.RESET_ALL)\n",
        "\n",
        "while attempts > 0 and word_letters:\n",
        "    display_word = [letter if letter in correct_guesses else \"_\" for letter in word]\n",
        "    print(Fore.YELLOW + \" \".join(display_word) + Style.RESET_ALL)\n",
        "\n",
        "\n",
        "    guess = input(Fore.GREEN + \"🔡Enter a letter: \" + Style.RESET_ALL)\n",
        "\n",
        "    if guess in correct_guesses:\n",
        "        print (Fore.MAGENTA + \"⚠️ You've already guessed that! Try another letter.\" + Style.RESET_ALL)\n",
        "    elif guess in word_letters:\n",
        "        correct_guesses.add(guess)\n",
        "        word_letters.remove(guess)\n",
        "        print(Fore.BLUE + \"🎯 Nice! That was Correct!\" + Style.RESET_ALL)\n",
        "    else:\n",
        "        attempts -= 1\n",
        "        print(Fore.RED + f\"❌ Oops! Wrong guess. Attempts left: {attempts}\" + Style.RESET_ALL)\n",
        "\n",
        "        hangman_stages = [\n",
        "            \"  ☠️💀  \",\n",
        "            \"  😵|   \",\n",
        "            \"  😨/|  \",\n",
        "            \"  😰/|\\\\ \",\n",
        "            \"  😢/|\\\\ \\  \",\n",
        "            \"  😱/|\\\\ /  \"\n",
        "        ]\n",
        "\n",
        "        if attempts < 6:\n",
        "            print(Fore.RED + hangman_stages[5 - attempts] + Style.RESET_ALL)\n",
        "\n",
        "if not word_letters:\n",
        "    print(Fore.GREEN + f\"🎉 Amazing! You figured out the word; {word.upper()} 🏆\" + Style.RESET_ALL)\n",
        "else:\n",
        "    print(Fore.RED + f\" Game Over! The word was: {word.upper()}\" + Style.RESET_ALL)\n"
      ],
      "metadata": {
        "colab": {
          "base_uri": "https://localhost:8080/"
        },
        "id": "oLGnauZf6Rbu",
        "outputId": "aa5c805f-f050-414c-969d-e0571cf8d6db"
      },
      "execution_count": 15,
      "outputs": [
        {
          "output_type": "stream",
          "name": "stdout",
          "text": [
            "\u001b[36m💻 Welcome to the Tech Hangman Challenge! 🚀\u001b[0m\n",
            "\u001b[33m_ _ _ _ _ _ _ _\u001b[0m\n",
            "\u001b[32m🔡Enter a letter: \u001b[0ma\n",
            "\u001b[34m🎯 Nice! That was Correct!\u001b[0m\n",
            "\u001b[33m_ a _ a _ a _ _\u001b[0m\n",
            "\u001b[32m🔡Enter a letter: \u001b[0md\n",
            "\u001b[34m🎯 Nice! That was Correct!\u001b[0m\n",
            "\u001b[33md a _ a _ a _ _\u001b[0m\n",
            "\u001b[32m🔡Enter a letter: \u001b[0mt\n",
            "\u001b[34m🎯 Nice! That was Correct!\u001b[0m\n",
            "\u001b[33md a t a _ a _ _\u001b[0m\n",
            "\u001b[32m🔡Enter a letter: \u001b[0mb\n",
            "\u001b[34m🎯 Nice! That was Correct!\u001b[0m\n",
            "\u001b[33md a t a b a _ _\u001b[0m\n",
            "\u001b[32m🔡Enter a letter: \u001b[0ms\n",
            "\u001b[34m🎯 Nice! That was Correct!\u001b[0m\n",
            "\u001b[33md a t a b a s _\u001b[0m\n",
            "\u001b[32m🔡Enter a letter: \u001b[0me\n",
            "\u001b[34m🎯 Nice! That was Correct!\u001b[0m\n",
            "\u001b[32m🎉 Amazing! You figured out the word; DATABASE 🏆\u001b[0m\n"
          ]
        }
      ]
    }
  ]
}