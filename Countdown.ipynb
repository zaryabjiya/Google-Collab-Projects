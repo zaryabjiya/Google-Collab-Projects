{
  "nbformat": 4,
  "nbformat_minor": 0,
  "metadata": {
    "colab": {
      "provenance": [],
      "authorship_tag": "ABX9TyM5yHxgONg18OnW/DgGmSl+",
      "include_colab_link": true
    },
    "kernelspec": {
      "name": "python3",
      "display_name": "Python 3"
    },
    "language_info": {
      "name": "python"
    }
  },
  "cells": [
    {
      "cell_type": "markdown",
      "metadata": {
        "id": "view-in-github",
        "colab_type": "text"
      },
      "source": [
        "<a href=\"https://colab.research.google.com/github/zaryabjiya/Google-Collab-Projects/blob/main/Countdown.ipynb\" target=\"_parent\"><img src=\"https://colab.research.google.com/assets/colab-badge.svg\" alt=\"Open In Colab\"/></a>"
      ]
    },
    {
      "cell_type": "markdown",
      "source": [
        "**Countdown Timer**"
      ],
      "metadata": {
        "id": "R9bEKvJI67ED"
      }
    },
    {
      "cell_type": "code",
      "source": [
        "import time\n",
        "\n",
        "def time_master(seconds):\n",
        "    print(\"\\n⏳ Timer Started! Get Ready! 🚀\")\n",
        "\n",
        "    while seconds > 0:\n",
        "        mins, secs = divmod(seconds, 60)\n",
        "        print(f\"\\r🕒 {mins:02}:{secs:02} remaining...\", end=\"\")\n",
        "        time.sleep(1)\n",
        "        seconds -= 1\n",
        "\n",
        "    print(\"\\n⏰ Ding Ding! Time’s up! 🚨\")\n",
        "\n",
        "try:\n",
        "    user_time = int(input(\"🎯 Set your countdown (in seconds): \"))\n",
        "    time_master(user_time)\n",
        "except ValueError:\n",
        "    print(\"⚠️ Please enter a valid number\")\n",
        "\n"
      ],
      "metadata": {
        "colab": {
          "base_uri": "https://localhost:8080/"
        },
        "id": "tO4e2XhF7ABk",
        "outputId": "170cd521-33ad-4b48-f88b-e61e1cdc1752"
      },
      "execution_count": 12,
      "outputs": [
        {
          "output_type": "stream",
          "name": "stdout",
          "text": [
            "🎯 Set your countdown (in seconds): 9\n",
            "\n",
            "⏳ Timer Started! Get Ready! 🚀\n",
            "🕒 00:01 remaining...\n",
            "⏰ Ding Ding! Time’s up! 🚨\n"
          ]
        }
      ]
    }
  ]
}