{
  "nbformat": 4,
  "nbformat_minor": 0,
  "metadata": {
    "colab": {
      "provenance": [],
      "authorship_tag": "ABX9TyMbvHVHKzcahteToPiARlQu",
      "include_colab_link": true
    },
    "kernelspec": {
      "name": "python3",
      "display_name": "Python 3"
    },
    "language_info": {
      "name": "python"
    }
  },
  "cells": [
    {
      "cell_type": "markdown",
      "metadata": {
        "id": "view-in-github",
        "colab_type": "text"
      },
      "source": [
        "<a href=\"https://colab.research.google.com/github/zaryabjiya/Google-Collab-Projects/blob/main/Madlibs.ipynb\" target=\"_parent\"><img src=\"https://colab.research.google.com/assets/colab-badge.svg\" alt=\"Open In Colab\"/></a>"
      ]
    },
    {
      "cell_type": "markdown",
      "source": [
        "# Mad Libs **Game**"
      ],
      "metadata": {
        "id": "ukJ98khZfpJF"
      }
    },
    {
      "cell_type": "code",
      "source": [
        "def mad_libs():\n",
        "    print(\"🎭 Welcome to the Mad Libs Game! 🎭\")\n",
        "\n",
        "    superpowers = ['Invisibility', 'Telekinesis', 'Flying', 'Super Strength']\n",
        "    creatures = ['Dragon', 'Unicorn', 'Zombie', 'Giant Octopus']\n",
        "    places = ['Mysterious Cave', 'Enchanted Forest', 'Abandoned Castle', 'Lost Island']\n",
        "    objects = ['Magic Sword', 'Ancient Scroll', 'Golden Shield', 'Mystic Orb']\n",
        "    emotions = ['Excited', 'Angry', 'Terrified', 'Confident']\n",
        "    sounds = ['BOO-HAHA', 'ROAR', 'SPLASH', 'BAM']\n",
        "\n",
        "    # User selects inputs from options\n",
        "    name = name = input(\"Enter a name: \")\n",
        "    superpower = input(f\"Enter a superpower ({', '.join(superpowers)}): \")\n",
        "    creature = input(f\"Enter a creature ({', '.join(creatures)}): \")\n",
        "    place = input(f\"Enter a place ({', '.join(places)}): \")\n",
        "    object = input(f\"Enter an object ({', '.join(objects)}): \")\n",
        "    emotion = input(f\"Enter an emotion ({', '.join(emotions)}): \")\n",
        "    sound = input(f\"Enter a funny sound ({', '.join(sounds)}): \")\n",
        "\n",
        "    # Checking if all inputs are provided\n",
        "    if name and superpower and creature and place and object and emotion and sound:\n",
        "        # Generating the story\n",
        "        story = f\"\"\"\n",
        "        🌟✨ THE LEGEND OF {name.upper()} ✨🌟\n",
        "\n",
        "        One day, {name} woke up and discovered an incredible power: {superpower}! ⚡\n",
        "        Determined to test this power, {name} traveled to the {place}. 🏰\n",
        "\n",
        "        Suddenly, a {creature} appeared! 😱 It roared, making a loud \"{sound}!\" 🔊\n",
        "        Without hesitation, {name} used their {superpower} and defeated the creature! 💥\n",
        "\n",
        "        Feeling {emotion}, {name} picked up a {object}, smiled, and became the **Hero of {place}!** 🎉🏆\n",
        "        \"\"\"\n",
        "\n",
        "        print(\"\\n🎉 Your Mad Libs Adventure is Ready! 🎉\\n\")\n",
        "        print(story)\n",
        "    else:\n",
        "        print(\"⚠️ Please fill in all the blanks to create your story!\")\n",
        "\n",
        "mad_libs()\n"
      ],
      "metadata": {
        "colab": {
          "base_uri": "https://localhost:8080/"
        },
        "id": "jvZc381sf1dn",
        "outputId": "63348085-65de-4996-f630-daf17c2ced09"
      },
      "execution_count": null,
      "outputs": [
        {
          "output_type": "stream",
          "name": "stdout",
          "text": [
            "🎭 Welcome to the Mad Libs Game! 🎭\n",
            "Enter a name: Zaryab\n",
            "Enter a superpower (Invisibility, Telekinesis, Flying, Super Strength): Super Strength\n",
            "Enter a creature (Dragon, Unicorn, Zombie, Giant Octopus): Dragon\n",
            "Enter a place (Mysterious Cave, Enchanted Forest, Abandoned Castle, Lost Island): Mysterious Cave\n",
            "Enter an object (Magic Sword, Ancient Scroll, Golden Shield, Mystic Orb): Magic Sword\n",
            "Enter an emotion (Excited, Angry, Terrified, Confident): Excited\n",
            "Enter a funny sound (BOO-HAHA, ROAR, SPLASH, BAM): BOO-HAHA\n",
            "\n",
            "🎉 Your Mad Libs Adventure is Ready! 🎉\n",
            "\n",
            "\n",
            "        🌟✨ THE LEGEND OF ZARYAB ✨🌟 \n",
            "\n",
            "        One day, Zaryab woke up and discovered an incredible power: Super Strength! ⚡ \n",
            "        Determined to test this power, Zaryab traveled to the Mysterious Cave. 🏰 \n",
            "\n",
            "        Suddenly, a Dragon appeared! 😱 It roared, making a loud \"BOO-HAHA!\" 🔊\n",
            "        Without hesitation, Zaryab used their Super Strength and defeated the creature! 💥 \n",
            "\n",
            "        Feeling Excited, Zaryab picked up a Magic Sword, smiled, and became the **Hero of Mysterious Cave!** 🎉🏆\n",
            "        \n"
          ]
        }
      ]
    }
  ]
}