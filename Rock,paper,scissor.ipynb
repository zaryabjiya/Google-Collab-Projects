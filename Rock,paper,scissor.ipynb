{
  "nbformat": 4,
  "nbformat_minor": 0,
  "metadata": {
    "colab": {
      "provenance": [],
      "authorship_tag": "ABX9TyODy9ErRjZj5uRZqOOVpL2u",
      "include_colab_link": true
    },
    "kernelspec": {
      "name": "python3",
      "display_name": "Python 3"
    },
    "language_info": {
      "name": "python"
    }
  },
  "cells": [
    {
      "cell_type": "markdown",
      "metadata": {
        "id": "view-in-github",
        "colab_type": "text"
      },
      "source": [
        "<a href=\"https://colab.research.google.com/github/zaryabjiya/Google-Collab-Projects/blob/main/Rock%2Cpaper%2Cscissor.ipynb\" target=\"_parent\"><img src=\"https://colab.research.google.com/assets/colab-badge.svg\" alt=\"Open In Colab\"/></a>"
      ]
    },
    {
      "cell_type": "markdown",
      "source": [
        "**Rock Paper Scissor Game**"
      ],
      "metadata": {
        "id": "JLV1g-y7EiDE"
      }
    },
    {
      "cell_type": "code",
      "source": [
        "import random\n",
        "import time\n",
        "\n",
        "DARK_RED = \"\\033[31m\"\n",
        "DARK_GREEN = \"\\033[32m\"\n",
        "MAGENTA = \"\\033[35m\"\n",
        "DARK_BLUE = \"\\033[34m\"\n",
        "CYAN = \"\\033[36m\"\n",
        "RESET = \"\\033[0m\"\n",
        "\n",
        "def play_game():\n",
        "  while True:\n",
        "    print(f\"{MAGENTA}\\n🎮 Welcome to Rock, Paper, Scissors! 🗿📜✂️{RESET} \")\n",
        "    time.sleep(1)\n",
        "\n",
        "    choices = [\"rock\", \"paper\", \"scissors\"]\n",
        "    user_choice = input(f\"\\n 🤔 Choose: Rock 🗿, Paper 📜, or Scissors ✂️? \").lower()\n",
        "\n",
        "    if user_choice not in choices:\n",
        "        print(f\"{DARK_RED}⚠️ Invalid choice! Please choose Rock, Paper, or Scissors. ❌{RESET}\")\n",
        "        return\n",
        "\n",
        "    computer_choice = random.choice(choices)\n",
        "\n",
        "    print(f\"🧑 You chose: {user_choice.capitalize()} 🎭\")\n",
        "    print(f\"🤖 Computer chose: {computer_choice.capitalize()} 💻\")\n",
        "    time.sleep(1)\n",
        "\n",
        "    if user_choice == computer_choice:\n",
        "        print(f\"{CYAN}😲 It's a tie! Try again. 🔄{RESET}\")\n",
        "    elif (user_choice == \"rock\" and computer_choice == \"scissors\") or\\\n",
        "         (user_choice == \"paper\" and computer_choice == \"rock\") or\\\n",
        "         (user_choice == \"scissors\" and computer_choice == \"paper\"):\n",
        "        print(f\"{DARK_GREEN}🎉 You win! 🏆🔥{RESET}\")\n",
        "    else:\n",
        "        print(f\"{DARK_RED}😢 You lose! Better luck next time. 💀{RESET}\")\n",
        "\n",
        "         play_again = input(\"\\n🔄 Do you want to play again? (yes/no): \").lower()\n",
        "        if play_again != \"yes\":\n",
        "            print(f\"{DARK_BLUE}👋 Thanks for playing! Goodbye! {RESET}\")\n",
        "        break\n",
        "play_game()\n"
      ],
      "metadata": {
        "colab": {
          "base_uri": "https://localhost:8080/"
        },
        "id": "2v7nGUrREvRa",
        "outputId": "0568c302-0da5-4bbb-adb4-ef085fd6b4f1"
      },
      "execution_count": 19,
      "outputs": [
        {
          "output_type": "stream",
          "name": "stdout",
          "text": [
            "\u001b[35m\n",
            "🎮 Welcome to Rock, Paper, Scissors! 🗿📜✂️\u001b[0m \n",
            "\n",
            " 🤔 Choose: Rock 🗿, Paper 📜, or Scissors ✂️? rock\n",
            "🧑 You chose: Rock 🎭\n",
            "🤖 Computer chose: Paper 💻\n",
            "\u001b[31m😢 You lose! Better luck next time. 💀\u001b[0m\n"
          ]
        }
      ]
    }
  ]
}