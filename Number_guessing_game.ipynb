{
  "nbformat": 4,
  "nbformat_minor": 0,
  "metadata": {
    "colab": {
      "provenance": [],
      "authorship_tag": "ABX9TyPdoTNc6U0wvByAo+V4y4bq",
      "include_colab_link": true
    },
    "kernelspec": {
      "name": "python3",
      "display_name": "Python 3"
    },
    "language_info": {
      "name": "python"
    }
  },
  "cells": [
    {
      "cell_type": "markdown",
      "metadata": {
        "id": "view-in-github",
        "colab_type": "text"
      },
      "source": [
        "<a href=\"https://colab.research.google.com/github/zaryabjiya/Google-Collab-Projects/blob/main/Number_guessing_game.ipynb\" target=\"_parent\"><img src=\"https://colab.research.google.com/assets/colab-badge.svg\" alt=\"Open In Colab\"/></a>"
      ]
    },
    {
      "cell_type": "markdown",
      "source": [
        "**NUmber Guessing Game (*COMPUTER* )**"
      ],
      "metadata": {
        "id": "Zxv6jTHxpzdA"
      }
    },
    {
      "cell_type": "code",
      "source": [
        "from ast import LShift\n",
        "from re import L\n",
        "import random\n",
        "import time\n",
        "\n",
        "DARK_RED = \"\\033[31m\"\n",
        "DARK_GREEN = \"\\033[32m\"\n",
        "MAGENTA = \"\\033[35m\"\n",
        "DARK_BLUE = \"\\033[34m\"\n",
        "CYAN = \"\\033[36m\"\n",
        "RESET = \"\\033[0m\"\n",
        "\n",
        "def computer_guesses():\n",
        "    \"\"\"Reversed Number Guessing Game: The Computer Guesses! 🎯🤖\"\"\"\n",
        "\n",
        "    print(f\"{MAGENTA}🎮 Welcome to the Reverse Number Guessing Game! 🎉{RESET}\")\n",
        "    time.sleep(1)\n",
        "    print(f\"{DARK_BLUE}🤖 Think of a number between 1 and 100, and I will try to guess it! 🔢{RESET}\")\n",
        "    time.sleep(1)\n",
        "\n",
        "    low,high= 1,100\n",
        "    attempts = 7\n",
        "\n",
        "    while attempts > 0:\n",
        "        guess = random.randint(low, high)\n",
        "\n",
        "        print(f\"\\n{DARK_RED}🔥 I have {attempts} attempts left.{RESET} \")\n",
        "        time.sleep(1)\n",
        "        print(f\"{CYAN}🤔 Is your number {guess}? (h for too high, l for too low, c for correct){RESET}\")\n",
        "        user_input = input(\"👉 Enter your response (h/l/c):\").lower()\n",
        "\n",
        "        if user_input == \"c\":\n",
        "            print(f\"{DARK_GREEN} 🎊 Yay! I guessed your number {guess} correctly! 🎉{RESET}\")\n",
        "            return\n",
        "        elif user_input == \"h\":\n",
        "            high = guess - 1\n",
        "        elif user_input == \"l\":\n",
        "            low = guess + 1\n",
        "        else:\n",
        "            print(f\"{DARK_RED} ⚠️ Invalid input! Please enter 'h', 'l', or 'c'.{RESET}\")\n",
        "            continue\n",
        "\n",
        "        attempts -= 1\n",
        "\n",
        "    print(f\"\\n{DARK_RED}😢 Oops! I ran out of guesses. {RESET}h\")\n",
        "    print(f\"{DARK_GREEN} You win! 🔥🎉 {RESET}\")\n",
        "\n",
        "computer_guesses()\n",
        "\n",
        "\n"
      ],
      "metadata": {
        "colab": {
          "base_uri": "https://localhost:8080/"
        },
        "id": "xppjeplMqMcB",
        "outputId": "5de62eca-ec27-4cd9-d060-0edadcff247f"
      },
      "execution_count": 16,
      "outputs": [
        {
          "output_type": "stream",
          "name": "stdout",
          "text": [
            "\u001b[35m🎮 Welcome to the Reverse Number Guessing Game! 🎉\u001b[0m\n",
            "\u001b[34m🤖 Think of a number between 1 and 100, and I will try to guess it! 🔢\u001b[0m\n",
            "\n",
            "\u001b[31m🔥 I have 7 attempts left.\u001b[0m \n",
            "\u001b[36m🤔 Is your number 3? (h for too high, l for too low, c for correct)\u001b[0m\n",
            "👉 Enter your response (h/l/c):l\n",
            "\n",
            "\u001b[31m🔥 I have 6 attempts left.\u001b[0m \n",
            "\u001b[36m🤔 Is your number 61? (h for too high, l for too low, c for correct)\u001b[0m\n",
            "👉 Enter your response (h/l/c):h\n",
            "\n",
            "\u001b[31m🔥 I have 5 attempts left.\u001b[0m \n",
            "\u001b[36m🤔 Is your number 39? (h for too high, l for too low, c for correct)\u001b[0m\n",
            "👉 Enter your response (h/l/c):l\n",
            "\n",
            "\u001b[31m🔥 I have 4 attempts left.\u001b[0m \n",
            "\u001b[36m🤔 Is your number 55? (h for too high, l for too low, c for correct)\u001b[0m\n",
            "👉 Enter your response (h/l/c):h\n",
            "\n",
            "\u001b[31m🔥 I have 3 attempts left.\u001b[0m \n",
            "\u001b[36m🤔 Is your number 41? (h for too high, l for too low, c for correct)\u001b[0m\n",
            "👉 Enter your response (h/l/c):l\n",
            "\n",
            "\u001b[31m🔥 I have 2 attempts left.\u001b[0m \n",
            "\u001b[36m🤔 Is your number 51? (h for too high, l for too low, c for correct)\u001b[0m\n",
            "👉 Enter your response (h/l/c):h\n",
            "\n",
            "\u001b[31m🔥 I have 1 attempts left.\u001b[0m \n",
            "\u001b[36m🤔 Is your number 46? (h for too high, l for too low, c for correct)\u001b[0m\n",
            "👉 Enter your response (h/l/c):l\n",
            "\n",
            "\u001b[31m😢 Oops! I ran out of guesses. \u001b[0mh\n",
            "\u001b[32m You win! 🔥🎉 \u001b[0m\n"
          ]
        }
      ]
    }
  ]
}